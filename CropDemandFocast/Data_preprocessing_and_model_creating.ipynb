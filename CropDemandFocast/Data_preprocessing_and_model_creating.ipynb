{
  "nbformat": 4,
  "nbformat_minor": 0,
  "metadata": {
    "colab": {
      "provenance": [],
      "gpuType": "T4"
    },
    "kernelspec": {
      "name": "python3",
      "display_name": "Python 3"
    },
    "language_info": {
      "name": "python"
    },
    "accelerator": "GPU"
  },
  "cells": [
    {
      "cell_type": "code",
      "source": [
        "import pandas as pd\n",
        "import numpy as np\n",
        "\n",
        "# Load datasets\n",
        "df1 = pd.read_csv('/content/Crop_recommendation.csv')\n",
        "df2 = pd.read_csv('/content/crop_production.csv')\n",
        "\n",
        "# Add investment column with random values\n",
        "np.random.seed(42)  # For reproducibility\n",
        "df1['investment'] = np.random.randint(1000, 5000, size=len(df1))\n",
        "\n",
        "# For merging, assuming a place-based merge is needed, we will just concatenate\n",
        "# If there's a key to merge on, use pd.merge() with appropriate key\n",
        "# Example: df_combined = pd.merge(df1, df2[['State_Name', 'District_Name']], left_on='place_column', right_on='District_Name', how='left')\n",
        "df_combined = pd.concat([df1, df2[['State_Name', 'District_Name']]], axis=1)\n",
        "\n",
        "# Drop any duplicated columns if needed\n",
        "df_combined = df_combined.loc[:, ~df_combined.columns.duplicated()]\n"
      ],
      "metadata": {
        "id": "bPilOfOSObVV"
      },
      "execution_count": 3,
      "outputs": []
    },
    {
      "cell_type": "code",
      "source": [
        "# Check for missing values\n",
        "print(df_combined.isnull().sum())\n"
      ],
      "metadata": {
        "colab": {
          "base_uri": "https://localhost:8080/"
        },
        "id": "BxtyQFQaRB_m",
        "outputId": "abedeccb-c38a-4e7b-c405-2d2c2fa410d8"
      },
      "execution_count": 6,
      "outputs": [
        {
          "output_type": "stream",
          "name": "stdout",
          "text": [
            "N                243891\n",
            "P                243891\n",
            "K                243891\n",
            "temp             243891\n",
            "humid            243891\n",
            "ph               243891\n",
            "rainfal          243891\n",
            "label            243891\n",
            "investment       243891\n",
            "State_Name            0\n",
            "District_Name         0\n",
            "dtype: int64\n"
          ]
        }
      ]
    },
    {
      "cell_type": "code",
      "source": [
        "# Fill missing values with a placeholder, if suitable\n",
        "df_combined['State_Name'] = df_combined['State_Name'].fillna('Unknown')\n",
        "df_combined['District_Name'] = df_combined['District_Name'].fillna('Unknown')\n"
      ],
      "metadata": {
        "id": "ubZt9sj9Q_nU"
      },
      "execution_count": 8,
      "outputs": []
    },
    {
      "cell_type": "code",
      "source": [
        "df_combined = df_combined.dropna()\n",
        "\n"
      ],
      "metadata": {
        "id": "02sq5ggsRqTi"
      },
      "execution_count": 11,
      "outputs": []
    },
    {
      "cell_type": "code",
      "source": [
        "# Fill missing values with the mode\n",
        "df_combined['State_Name'].fillna(df_combined['State_Name'].mode()[0], inplace=True)\n",
        "df_combined['District_Name'].fillna(df_combined['District_Name'].mode()[0], inplace=True)\n"
      ],
      "metadata": {
        "colab": {
          "base_uri": "https://localhost:8080/"
        },
        "id": "iaB9BT8PRvD7",
        "outputId": "5a087d3c-1ec9-4c12-e4e3-2654d83df623"
      },
      "execution_count": 12,
      "outputs": [
        {
          "output_type": "stream",
          "name": "stderr",
          "text": [
            "<ipython-input-12-2623a20c7106>:2: SettingWithCopyWarning: \n",
            "A value is trying to be set on a copy of a slice from a DataFrame\n",
            "\n",
            "See the caveats in the documentation: https://pandas.pydata.org/pandas-docs/stable/user_guide/indexing.html#returning-a-view-versus-a-copy\n",
            "  df_combined['State_Name'].fillna(df_combined['State_Name'].mode()[0], inplace=True)\n",
            "<ipython-input-12-2623a20c7106>:3: SettingWithCopyWarning: \n",
            "A value is trying to be set on a copy of a slice from a DataFrame\n",
            "\n",
            "See the caveats in the documentation: https://pandas.pydata.org/pandas-docs/stable/user_guide/indexing.html#returning-a-view-versus-a-copy\n",
            "  df_combined['District_Name'].fillna(df_combined['District_Name'].mode()[0], inplace=True)\n"
          ]
        }
      ]
    },
    {
      "cell_type": "code",
      "source": [
        "from sklearn.model_selection import train_test_split\n",
        "from sklearn.preprocessing import StandardScaler\n",
        "from sklearn.ensemble import RandomForestClassifier\n",
        "from sklearn.metrics import accuracy_score\n",
        "\n",
        "# Define features and target\n",
        "X = df_combined[['P', 'K', 'temp', 'humid', 'ph', 'rainfal', 'investment']]\n",
        "y = df_combined['label']\n",
        "\n",
        "# Encode categorical labels\n",
        "y = y.astype('category').cat.codes\n",
        "\n",
        "# Split data\n",
        "X_train, X_test, y_train, y_test = train_test_split(X, y, test_size=0.3, random_state=42)\n",
        "\n",
        "# Feature scaling\n",
        "scaler = StandardScaler()\n",
        "X_train = scaler.fit_transform(X_train)\n",
        "X_test = scaler.transform(X_test)\n",
        "\n",
        "# Initialize and fit the model\n",
        "model = RandomForestClassifier(n_estimators=100, random_state=42)\n",
        "model.fit(X_train, y_train)\n",
        "\n",
        "# Make predictions\n",
        "y_pred = model.predict(X_test)\n",
        "\n",
        "# Calculate accuracy\n",
        "accuracy = accuracy_score(y_test, y_pred)\n",
        "print(f'Accuracy: {accuracy:.2f}')\n"
      ],
      "metadata": {
        "colab": {
          "base_uri": "https://localhost:8080/"
        },
        "id": "XqHUryFwR2rw",
        "outputId": "0da77acd-6494-43f9-8c3d-e6f609272e40"
      },
      "execution_count": 13,
      "outputs": [
        {
          "output_type": "stream",
          "name": "stdout",
          "text": [
            "Accuracy: 0.99\n"
          ]
        }
      ]
    },
    {
      "cell_type": "code",
      "source": [
        "from sklearn.metrics import classification_report\n",
        "\n",
        "print(classification_report(y_test, y_pred, target_names=df_combined['label'].unique()))\n"
      ],
      "metadata": {
        "colab": {
          "base_uri": "https://localhost:8080/"
        },
        "id": "LCaBoTMcR7P9",
        "outputId": "e7ba2bc0-2393-4c6e-a4d9-2f16c19611b8"
      },
      "execution_count": 14,
      "outputs": [
        {
          "output_type": "stream",
          "name": "stdout",
          "text": [
            "              precision    recall  f1-score   support\n",
            "\n",
            "        rice       1.00      1.00      1.00        34\n",
            "       maize       1.00      1.00      1.00        26\n",
            "    chickpea       1.00      1.00      1.00        26\n",
            " kidneybeans       1.00      1.00      1.00        34\n",
            "  pigeonpeas       1.00      1.00      1.00        33\n",
            "   mothbeans       1.00      1.00      1.00        30\n",
            "    mungbean       1.00      1.00      1.00        28\n",
            "   blackgram       1.00      1.00      1.00        23\n",
            "      lentil       0.85      1.00      0.92        34\n",
            " pomegranate       1.00      1.00      1.00        36\n",
            "      banana       0.96      1.00      0.98        22\n",
            "       mango       0.96      1.00      0.98        26\n",
            "      grapes       1.00      1.00      1.00        32\n",
            "  watermelon       1.00      0.94      0.97        34\n",
            "   muskmelon       1.00      1.00      1.00        30\n",
            "       apple       1.00      1.00      1.00        24\n",
            "      orange       1.00      1.00      1.00        25\n",
            "      papaya       1.00      1.00      1.00        37\n",
            "     coconut       1.00      1.00      1.00        37\n",
            "      cotton       1.00      1.00      1.00        38\n",
            "        jute       1.00      0.79      0.88        28\n",
            "      coffee       1.00      1.00      1.00        23\n",
            "\n",
            "    accuracy                           0.99       660\n",
            "   macro avg       0.99      0.99      0.99       660\n",
            "weighted avg       0.99      0.99      0.99       660\n",
            "\n"
          ]
        }
      ]
    },
    {
      "cell_type": "code",
      "source": [
        "from sklearn.model_selection import cross_val_score\n",
        "\n",
        "cv_scores = cross_val_score(model, X, y, cv=5)\n",
        "print(f'Cross-Validation Scores: {cv_scores}')\n",
        "print(f'Mean CV Score: {cv_scores.mean()}')\n"
      ],
      "metadata": {
        "colab": {
          "base_uri": "https://localhost:8080/"
        },
        "id": "2rdlrmOWR_vx",
        "outputId": "021de83c-fb10-436d-df93-b606f9806eb9"
      },
      "execution_count": 15,
      "outputs": [
        {
          "output_type": "stream",
          "name": "stdout",
          "text": [
            "Cross-Validation Scores: [0.99545455 0.98863636 0.99545455 0.99545455 0.99318182]\n",
            "Mean CV Score: 0.9936363636363638\n"
          ]
        }
      ]
    },
    {
      "cell_type": "code",
      "source": [
        "# Training accuracy\n",
        "train_accuracy = model.score(X_train, y_train)\n",
        "print(f'Training Accuracy: {train_accuracy:.2f}')\n",
        "\n",
        "# Test accuracy\n",
        "test_accuracy = model.score(X_test, y_test)\n",
        "print(f'Test Accuracy: {test_accuracy:.2f}')\n"
      ],
      "metadata": {
        "colab": {
          "base_uri": "https://localhost:8080/"
        },
        "id": "9ab6nVvTSDMc",
        "outputId": "6e381810-f115-42ec-b501-c43bf27a1c1c"
      },
      "execution_count": 16,
      "outputs": [
        {
          "output_type": "stream",
          "name": "stdout",
          "text": [
            "Training Accuracy: 1.00\n",
            "Test Accuracy: 0.99\n"
          ]
        }
      ]
    },
    {
      "cell_type": "code",
      "source": [
        "from sklearn.metrics import confusion_matrix\n",
        "import seaborn as sns\n",
        "import matplotlib.pyplot as plt\n",
        "\n",
        "cm = confusion_matrix(y_test, y_pred)\n",
        "sns.heatmap(cm, annot=True, fmt='d', cmap='Blues', xticklabels=df_combined['label'].unique(), yticklabels=df_combined['label'].unique())\n",
        "plt.xlabel('Predicted')\n",
        "plt.ylabel('True')\n",
        "plt.title('Confusion Matrix')\n",
        "plt.show()\n"
      ],
      "metadata": {
        "colab": {
          "base_uri": "https://localhost:8080/",
          "height": 552
        },
        "id": "5wfWA6FjSGOt",
        "outputId": "372adc99-d413-4d64-b3f7-24041ec3144f"
      },
      "execution_count": 17,
      "outputs": [
        {
          "output_type": "display_data",
          "data": {
            "text/plain": [
              "<Figure size 640x480 with 2 Axes>"
            ],
            "image/png": "[encoded data removed]"
          },
          "metadata": {}
        }
      ]
    },
    {
      "cell_type": "code",
      "source": [
        "importances = model.feature_importances_\n",
        "features = X.columns\n",
        "\n",
        "# Create a DataFrame for feature importances\n",
        "feature_importance_df = pd.DataFrame({\n",
        "    'Feature': features,\n",
        "    'Importance': importances\n",
        "}).sort_values(by='Importance', ascending=False)\n",
        "\n",
        "print(feature_importance_df)\n"
      ],
      "metadata": {
        "colab": {
          "base_uri": "https://localhost:8080/"
        },
        "id": "VhLmELaZSLqo",
        "outputId": "77bb98bc-4def-4f2d-ee9c-39cd365e3249"
      },
      "execution_count": 18,
      "outputs": [
        {
          "output_type": "stream",
          "name": "stdout",
          "text": [
            "      Feature  Importance\n",
            "5     rainfal    0.244929\n",
            "3       humid    0.224305\n",
            "1           K    0.186084\n",
            "0           P    0.161288\n",
            "2        temp    0.101074\n",
            "4          ph    0.072191\n",
            "6  investment    0.010130\n"
          ]
        }
      ]
    },
    {
      "cell_type": "code",
      "source": [
        "from tensorflow.keras.models import Sequential\n",
        "from tensorflow.keras.layers import LSTM, Dense\n",
        "from sklearn.preprocessing import StandardScaler\n",
        "import numpy as np\n",
        "\n",
        "# Convert data to 3D array\n",
        "# Example: Assuming you reshape data into (samples, timesteps, features)\n",
        "X_reshaped = np.reshape(X.values, (X.shape[0], 1, X.shape[1]))  # Dummy timestep dimension\n",
        "\n",
        "# Define the model\n",
        "model = Sequential()\n",
        "model.add(LSTM(50, activation='relu', input_shape=(X_reshaped.shape[1], X_reshaped.shape[2])))\n",
        "model.add(Dense(1, activation='sigmoid'))  # or 'softmax' for multi-class classification\n",
        "\n",
        "# Compile the model\n",
        "model.compile(optimizer='adam', loss='binary_crossentropy', metrics=['accuracy'])\n",
        "\n",
        "# Train the model\n",
        "model.fit(X_reshaped, y, epochs=10, batch_size=64, validation_split=0.2)\n"
      ],
      "metadata": {
        "colab": {
          "base_uri": "https://localhost:8080/"
        },
        "id": "IkCdJ1iFSNVQ",
        "outputId": "d7fa05de-0378-4458-e75a-17cbb7c83645"
      },
      "execution_count": 19,
      "outputs": [
        {
          "output_type": "stream",
          "name": "stdout",
          "text": [
            "Epoch 1/10\n"
          ]
        },
        {
          "output_type": "stream",
          "name": "stderr",
          "text": [
            "/usr/local/lib/python3.10/dist-packages/keras/src/layers/rnn/rnn.py:204: UserWarning: Do not pass an `input_shape`/`input_dim` argument to a layer. When using Sequential models, prefer using an `Input(shape)` object as the first layer in the model instead.\n",
            "  super().__init__(**kwargs)\n"
          ]
        },
        {
          "output_type": "stream",
          "name": "stdout",
          "text": [
            "\u001b[1m28/28\u001b[0m \u001b[32m━━━━━━━━━━━━━━━━━━━━\u001b[0m\u001b[37m\u001b[0m \u001b[1m4s\u001b[0m 70ms/step - accuracy: 0.0695 - loss: -831.8748 - val_accuracy: 0.0000e+00 - val_loss: -1789.0543\n",
            "Epoch 2/10\n",
            "\u001b[1m28/28\u001b[0m \u001b[32m━━━━━━━━━━━━━━━━━━━━\u001b[0m\u001b[37m\u001b[0m \u001b[1m0s\u001b[0m 3ms/step - accuracy: 0.0615 - loss: -3828.0552 - val_accuracy: 0.0000e+00 - val_loss: -3069.2637\n",
            "Epoch 3/10\n",
            "\u001b[1m28/28\u001b[0m \u001b[32m━━━━━━━━━━━━━━━━━━━━\u001b[0m\u001b[37m\u001b[0m \u001b[1m0s\u001b[0m 2ms/step - accuracy: 0.0665 - loss: -6075.9946 - val_accuracy: 0.0000e+00 - val_loss: -4470.9312\n",
            "Epoch 4/10\n",
            "\u001b[1m28/28\u001b[0m \u001b[32m━━━━━━━━━━━━━━━━━━━━\u001b[0m\u001b[37m\u001b[0m \u001b[1m0s\u001b[0m 3ms/step - accuracy: 0.0602 - loss: -8748.0469 - val_accuracy: 0.0000e+00 - val_loss: -6067.4917\n",
            "Epoch 5/10\n",
            "\u001b[1m28/28\u001b[0m \u001b[32m━━━━━━━━━━━━━━━━━━━━\u001b[0m\u001b[37m\u001b[0m \u001b[1m0s\u001b[0m 3ms/step - accuracy: 0.0580 - loss: -11643.4805 - val_accuracy: 0.0000e+00 - val_loss: -7959.1982\n",
            "Epoch 6/10\n",
            "\u001b[1m28/28\u001b[0m \u001b[32m━━━━━━━━━━━━━━━━━━━━\u001b[0m\u001b[37m\u001b[0m \u001b[1m0s\u001b[0m 3ms/step - accuracy: 0.0650 - loss: -15279.9219 - val_accuracy: 0.0000e+00 - val_loss: -10200.6934\n",
            "Epoch 7/10\n",
            "\u001b[1m28/28\u001b[0m \u001b[32m━━━━━━━━━━━━━━━━━━━━\u001b[0m\u001b[37m\u001b[0m \u001b[1m0s\u001b[0m 3ms/step - accuracy: 0.0547 - loss: -20023.0391 - val_accuracy: 0.0000e+00 - val_loss: -12773.2803\n",
            "Epoch 8/10\n",
            "\u001b[1m28/28\u001b[0m \u001b[32m━━━━━━━━━━━━━━━━━━━━\u001b[0m\u001b[37m\u001b[0m \u001b[1m0s\u001b[0m 2ms/step - accuracy: 0.0538 - loss: -24593.2812 - val_accuracy: 0.0000e+00 - val_loss: -15682.9453\n",
            "Epoch 9/10\n",
            "\u001b[1m28/28\u001b[0m \u001b[32m━━━━━━━━━━━━━━━━━━━━\u001b[0m\u001b[37m\u001b[0m \u001b[1m0s\u001b[0m 2ms/step - accuracy: 0.0564 - loss: -29774.6523 - val_accuracy: 0.0000e+00 - val_loss: -18964.4258\n",
            "Epoch 10/10\n",
            "\u001b[1m28/28\u001b[0m \u001b[32m━━━━━━━━━━━━━━━━━━━━\u001b[0m\u001b[37m\u001b[0m \u001b[1m0s\u001b[0m 3ms/step - accuracy: 0.0645 - loss: -35912.3672 - val_accuracy: 0.0000e+00 - val_loss: -22602.7188\n"
          ]
        },
        {
          "output_type": "execute_result",
          "data": {
            "text/plain": [
              "<keras.src.callbacks.history.History at 0x7c7cfcf3d510>"
            ]
          },
          "metadata": {},
          "execution_count": 19
        }
      ]
    },
    {
      "cell_type": "code",
      "source": [
        "import pandas as pd\n",
        "import numpy as np\n",
        "\n",
        "\n",
        "\n",
        "# Load place data\n",
        "place_data = pd.read_csv('crop_production.csv')\n",
        "\n",
        "# Check columns\n",
        "print(place_data.head())\n",
        "\n",
        "# Randomly assign place data\n",
        "num_rows = df_combined.shape[0]\n",
        "random_indices = np.random.choice(place_data.shape[0], num_rows, replace=True)\n",
        "\n",
        "df_combined['State_Name'] = place_data['State_Name'].iloc[random_indices].values\n",
        "df_combined['District_Name'] = place_data['District_Name'].iloc[random_indices].values\n",
        "\n",
        "# Verify the merged data\n",
        "print(df_combined[['State_Name', 'District_Name']].head())\n"
      ],
      "metadata": {
        "colab": {
          "base_uri": "https://localhost:8080/"
        },
        "id": "HP3LQ8gSSa1-",
        "outputId": "ee74bd7c-8a7c-4aa4-a0a9-a0aeff22b199"
      },
      "execution_count": 22,
      "outputs": [
        {
          "output_type": "stream",
          "name": "stdout",
          "text": [
            "                    State_Name District_Name  Crop_Year       Season  \\\n",
            "0  Andaman and Nicobar Islands      NICOBARS       2000  Kharif        \n",
            "1  Andaman and Nicobar Islands      NICOBARS       2000  Kharif        \n",
            "2  Andaman and Nicobar Islands      NICOBARS       2000  Kharif        \n",
            "3  Andaman and Nicobar Islands      NICOBARS       2000  Whole Year    \n",
            "4  Andaman and Nicobar Islands      NICOBARS       2000  Whole Year    \n",
            "\n",
            "                  Crop    Area  Production  \n",
            "0             Arecanut  1254.0      2000.0  \n",
            "1  Other Kharif pulses     2.0         1.0  \n",
            "2                 Rice   102.0       321.0  \n",
            "3               Banana   176.0       641.0  \n",
            "4            Cashewnut   720.0       165.0  \n",
            "      State_Name        District_Name\n",
            "0          Bihar              KATIHAR\n",
            "1        Haryana              PANIPAT\n",
            "2  Uttar Pradesh  GAUTAM BUDDHA NAGAR\n",
            "3         Odisha           JHARSUGUDA\n",
            "4    Maharashtra               SANGLI\n"
          ]
        }
      ]
    },
    {
      "cell_type": "code",
      "source": [
        "from sklearn.preprocessing import LabelEncoder, StandardScaler\n",
        "from sklearn.model_selection import train_test_split\n",
        "\n",
        "# Encode categorical features\n",
        "label_encoder = LabelEncoder()\n",
        "df_combined['State_Name'] = label_encoder.fit_transform(df_combined['State_Name'])\n",
        "df_combined['District_Name'] = label_encoder.fit_transform(df_combined['District_Name'])\n",
        "\n",
        "# Define features and target\n",
        "X = df_combined[['P', 'K', 'temp', 'humid', 'ph', 'rainfal', 'investment', 'State_Name', 'District_Name']]\n",
        "y = df_combined['label']\n",
        "\n",
        "# Feature scaling\n",
        "scaler = StandardScaler()\n",
        "X_scaled = scaler.fit_transform(X)\n",
        "\n",
        "# Split data\n",
        "X_train, X_test, y_train, y_test = train_test_split(X_scaled, y, test_size=0.3, random_state=42)\n"
      ],
      "metadata": {
        "id": "eZ-1WG85TDgU"
      },
      "execution_count": 25,
      "outputs": []
    },
    {
      "cell_type": "code",
      "source": [
        "from sklearn.ensemble import RandomForestClassifier\n",
        "from sklearn.metrics import classification_report, accuracy_score\n",
        "\n",
        "# Initialize and train the model\n",
        "model = RandomForestClassifier(n_estimators=100, random_state=42)\n",
        "model.fit(X_train, y_train)\n",
        "\n",
        "# Make predictions\n",
        "y_pred = model.predict(X_test)\n",
        "\n",
        "# Evaluate the model\n",
        "print(\"Accuracy:\", accuracy_score(y_test, y_pred))\n",
        "print(classification_report(y_test, y_pred))\n"
      ],
      "metadata": {
        "colab": {
          "base_uri": "https://localhost:8080/"
        },
        "id": "0QFrWFP7TfIT",
        "outputId": "4aeead6c-6521-47b8-868e-a4458665dd64"
      },
      "execution_count": 26,
      "outputs": [
        {
          "output_type": "stream",
          "name": "stdout",
          "text": [
            "Accuracy: 0.9893939393939394\n",
            "              precision    recall  f1-score   support\n",
            "\n",
            "       apple       1.00      1.00      1.00        34\n",
            "      banana       1.00      1.00      1.00        26\n",
            "   blackgram       1.00      1.00      1.00        26\n",
            "    chickpea       1.00      1.00      1.00        34\n",
            "     coconut       1.00      1.00      1.00        33\n",
            "      coffee       1.00      1.00      1.00        30\n",
            "      cotton       1.00      1.00      1.00        28\n",
            "      grapes       1.00      1.00      1.00        23\n",
            "        jute       0.87      1.00      0.93        34\n",
            " kidneybeans       1.00      1.00      1.00        36\n",
            "      lentil       0.96      1.00      0.98        22\n",
            "       maize       0.96      1.00      0.98        26\n",
            "       mango       1.00      1.00      1.00        32\n",
            "   mothbeans       1.00      0.94      0.97        34\n",
            "    mungbean       1.00      1.00      1.00        30\n",
            "   muskmelon       1.00      1.00      1.00        24\n",
            "      orange       1.00      1.00      1.00        25\n",
            "      papaya       1.00      1.00      1.00        37\n",
            "  pigeonpeas       1.00      1.00      1.00        37\n",
            " pomegranate       1.00      1.00      1.00        38\n",
            "        rice       1.00      0.82      0.90        28\n",
            "  watermelon       1.00      1.00      1.00        23\n",
            "\n",
            "    accuracy                           0.99       660\n",
            "   macro avg       0.99      0.99      0.99       660\n",
            "weighted avg       0.99      0.99      0.99       660\n",
            "\n"
          ]
        }
      ]
    },
    {
      "cell_type": "code",
      "source": [
        "importances = model.feature_importances_\n",
        "features = X.columns\n",
        "\n",
        "# Create a DataFrame for feature importances\n",
        "feature_importance_df = pd.DataFrame({\n",
        "    'Feature': features,\n",
        "    'Importance': importances\n",
        "}).sort_values(by='Importance', ascending=False)\n",
        "\n",
        "print(feature_importance_df)\n"
      ],
      "metadata": {
        "colab": {
          "base_uri": "https://localhost:8080/"
        },
        "id": "EYGg-ajUThpJ",
        "outputId": "978824ad-3caf-4d10-c44f-caf46b38da51"
      },
      "execution_count": 27,
      "outputs": [
        {
          "output_type": "stream",
          "name": "stdout",
          "text": [
            "         Feature  Importance\n",
            "5        rainfal    0.246442\n",
            "3          humid    0.234864\n",
            "1              K    0.188179\n",
            "0              P    0.164453\n",
            "2           temp    0.091552\n",
            "4             ph    0.057841\n",
            "6     investment    0.006630\n",
            "8  District_Name    0.005461\n",
            "7     State_Name    0.004578\n"
          ]
        }
      ]
    },
    {
      "cell_type": "code",
      "source": [
        "import joblib\n",
        "\n",
        "# Ensure paths are correct\n",
        "model_filename = 'crop_predictor_model.pkl'\n",
        "scaler_filename = 'scaler.pkl'\n",
        "\n",
        "# Save the trained model\n",
        "joblib.dump(model, model_filename)\n",
        "print(f\"Model saved as {model_filename}\")\n",
        "\n",
        "# Save the scaler\n",
        "joblib.dump(scaler, scaler_filename)\n",
        "print(f\"Scaler saved as {scaler_filename}\")\n",
        "\n"
      ],
      "metadata": {
        "colab": {
          "base_uri": "https://localhost:8080/"
        },
        "id": "B8t3dXhSTkkm",
        "outputId": "15f2d14d-c7e3-4e98-ee53-d770e6604aee"
      },
      "execution_count": 30,
      "outputs": [
        {
          "output_type": "stream",
          "name": "stdout",
          "text": [
            "Model saved as crop_predictor_model.pkl\n",
            "Scaler saved as scaler.pkl\n"
          ]
        }
      ]
    },
    {
      "cell_type": "code",
      "source": [
        "print(df_combined.head())"
      ],
      "metadata": {
        "colab": {
          "base_uri": "https://localhost:8080/"
        },
        "id": "KmEO9I5kTt3O",
        "outputId": "6405ead7-c3fc-4188-9ddf-575f8f183fe1"
      },
      "execution_count": 31,
      "outputs": [
        {
          "output_type": "stream",
          "name": "stdout",
          "text": [
            "      N     P     K       temp      humid        ph     rainfal label  \\\n",
            "0  90.0  42.0  43.0  20.879744  82.002744  6.502985  202.935536  rice   \n",
            "1  85.0  58.0  41.0  21.770462  80.319644  7.038096  226.655537  rice   \n",
            "2  60.0  55.0  44.0  23.004459  82.320763  7.840207  263.964248  rice   \n",
            "3  74.0  35.0  40.0  26.491096  80.158363  6.980401  242.864034  rice   \n",
            "4  78.0  42.0  42.0  20.130175  81.604873  7.628473  262.717340  rice   \n",
            "\n",
            "   investment  State_Name  District_Name  \n",
            "0      4174.0           4            269  \n",
            "1      4507.0           9            392  \n",
            "2      1860.0          29            178  \n",
            "3      2294.0          21            236  \n",
            "4      2130.0          16            448  \n"
          ]
        }
      ]
    },
    {
      "cell_type": "code",
      "source": [
        "import joblib\n",
        "from sklearn.preprocessing import LabelEncoder, StandardScaler\n",
        "from sklearn.ensemble import RandomForestClassifier\n",
        "import pandas as pd\n",
        "\n",
        "\n",
        "\n",
        "# Prepare features and target\n",
        "X = df_combined[['N', 'P', 'K', 'temp', 'humid', 'ph', 'rainfal', 'investment', 'State_Name', 'District_Name']]\n",
        "y = df_combined['label']\n",
        "\n",
        "# Handle Label Encoding\n",
        "label_encoder_state = LabelEncoder()\n",
        "label_encoder_state.fit(X['State_Name'])\n",
        "\n",
        "label_encoder_district = LabelEncoder()\n",
        "label_encoder_district.fit(X['District_Name'])\n",
        "\n",
        "# Encode categorical variables\n",
        "X['State_Name'] = label_encoder_state.transform(X['State_Name'])\n",
        "X['District_Name'] = label_encoder_district.transform(X['District_Name'])\n",
        "\n",
        "# Standardize features\n",
        "scaler = StandardScaler()\n",
        "X_scaled = scaler.fit_transform(X)\n",
        "\n",
        "# Train the model\n",
        "model = RandomForestClassifier(n_estimators=100)\n",
        "model.fit(X_scaled, y)\n",
        "\n",
        "# Save the model, scaler, and label encoders\n",
        "joblib.dump(model, 'crop_predictor_model.pkl')\n",
        "joblib.dump(scaler, 'scaler.pkl')\n",
        "joblib.dump(label_encoder_state, 'label_encoder_state.pkl')\n",
        "joblib.dump(label_encoder_district, 'label_encoder_district.pkl')\n"
      ],
      "metadata": {
        "colab": {
          "base_uri": "https://localhost:8080/"
        },
        "id": "lK1cuHabVUPL",
        "outputId": "18afc9c8-b39e-403f-bb0e-24aabebcb273"
      },
      "execution_count": 38,
      "outputs": [
        {
          "output_type": "stream",
          "name": "stderr",
          "text": [
            "<ipython-input-38-70d8433dfc88>:20: SettingWithCopyWarning: \n",
            "A value is trying to be set on a copy of a slice from a DataFrame.\n",
            "Try using .loc[row_indexer,col_indexer] = value instead\n",
            "\n",
            "See the caveats in the documentation: https://pandas.pydata.org/pandas-docs/stable/user_guide/indexing.html#returning-a-view-versus-a-copy\n",
            "  X['State_Name'] = label_encoder_state.transform(X['State_Name'])\n",
            "<ipython-input-38-70d8433dfc88>:21: SettingWithCopyWarning: \n",
            "A value is trying to be set on a copy of a slice from a DataFrame.\n",
            "Try using .loc[row_indexer,col_indexer] = value instead\n",
            "\n",
            "See the caveats in the documentation: https://pandas.pydata.org/pandas-docs/stable/user_guide/indexing.html#returning-a-view-versus-a-copy\n",
            "  X['District_Name'] = label_encoder_district.transform(X['District_Name'])\n"
          ]
        },
        {
          "output_type": "execute_result",
          "data": {
            "text/plain": [
              "['label_encoder_district.pkl']"
            ]
          },
          "metadata": {},
          "execution_count": 38
        }
      ]
    },
    {
      "cell_type": "code",
      "source": [
        "\n",
        "# Print column names\n",
        "print(\"Column names in the dataset:\")\n",
        "print(df_combined.columns)\n",
        "\n",
        "# Print first few rows to inspect data\n",
        "print(\"First few rows of the dataset:\")\n",
        "print(df_combined.head())\n"
      ],
      "metadata": {
        "colab": {
          "base_uri": "https://localhost:8080/"
        },
        "id": "Xv8Tmr1_VX6U",
        "outputId": "65fc7d2c-a982-4ebd-87bd-112b28964e9f"
      },
      "execution_count": 36,
      "outputs": [
        {
          "output_type": "stream",
          "name": "stdout",
          "text": [
            "Column names in the dataset:\n",
            "Index(['N', 'P', 'K', 'temp', 'humid', 'ph', 'rainfal', 'label', 'investment',\n",
            "       'State_Name', 'District_Name'],\n",
            "      dtype='object')\n",
            "First few rows of the dataset:\n",
            "      N     P     K       temp      humid        ph     rainfal label  \\\n",
            "0  90.0  42.0  43.0  20.879744  82.002744  6.502985  202.935536  rice   \n",
            "1  85.0  58.0  41.0  21.770462  80.319644  7.038096  226.655537  rice   \n",
            "2  60.0  55.0  44.0  23.004459  82.320763  7.840207  263.964248  rice   \n",
            "3  74.0  35.0  40.0  26.491096  80.158363  6.980401  242.864034  rice   \n",
            "4  78.0  42.0  42.0  20.130175  81.604873  7.628473  262.717340  rice   \n",
            "\n",
            "   investment  State_Name  District_Name  \n",
            "0      4174.0           4            269  \n",
            "1      4507.0           9            392  \n",
            "2      1860.0          29            178  \n",
            "3      2294.0          21            236  \n",
            "4      2130.0          16            448  \n"
          ]
        }
      ]
    },
    {
      "cell_type": "code",
      "source": [],
      "metadata": {
        "id": "uP2nvExDdSDv"
      },
      "execution_count": null,
      "outputs": []
    }
  ]
}