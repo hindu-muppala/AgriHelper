{
 "cells": [
  {
   "cell_type": "code",
   "execution_count": 1,
   "id": "f3991f5f",
   "metadata": {},
   "outputs": [],
   "source": [
    "MODEL = \"llama2\""
   ]
  },
  {
   "cell_type": "code",
   "execution_count": 2,
   "id": "b995a185-6597-408d-b317-27f267c0ca44",
   "metadata": {},
   "outputs": [],
   "source": [
    "from langchain_community.llms import Ollama\n",
    "from langchain_community.embeddings import OllamaEmbeddings\n",
    "\n",
    "\n",
    "model = Ollama(model=MODEL)\n",
    "embeddings = OllamaEmbeddings(model=MODEL)"
   ]
  },
  {
   "cell_type": "code",
   "execution_count": null,
   "id": "9049a9bd-43c9-4ffa-b6f7-92eff85d3e08",
   "metadata": {},
   "outputs": [],
   "source": [
    "## clean unnessary data"
   ]
  },
  {
   "cell_type": "code",
   "execution_count": 3,
   "id": "e732a1fb-7fe5-4732-83af-8a59261e2fbb",
   "metadata": {},
   "outputs": [],
   "source": [
    "\n",
    "from langchain_core.output_parsers import StrOutputParser\n",
    "\n",
    "parser = StrOutputParser()\n",
    "\n",
    "chain = model | parser "
   ]
  },
  {
   "cell_type": "code",
   "execution_count": 5,
   "id": "88f345fb-166a-40a2-bfc4-e892f70ae8d5",
   "metadata": {
    "scrolled": true
   },
   "outputs": [],
   "source": [
    "from langchain_community.document_loaders import PyPDFLoader\n",
    "loader = PyPDFLoader(r\"C:\\Users\\DELL\\application\\WWH\\Agriculture\\db.pdf\")\n",
    "pages = loader.load_and_split()"
   ]
  },
  {
   "cell_type": "code",
   "execution_count": null,
   "id": "2864f9dd-e002-4e15-bf45-e16ca4c13d9f",
   "metadata": {},
   "outputs": [],
   "source": []
  },
  {
   "cell_type": "code",
   "execution_count": 15,
   "id": "b36abe27-4f95-4036-af2d-2b6ee3777433",
   "metadata": {},
   "outputs": [
    {
     "data": {
      "text/plain": [
       "OllamaEmbeddings(base_url='http://localhost:11434', model='llama2', embed_instruction='passage: ', query_instruction='query: ', mirostat=None, mirostat_eta=None, mirostat_tau=None, num_ctx=None, num_gpu=None, num_thread=None, repeat_last_n=None, repeat_penalty=None, temperature=None, stop=None, tfs_z=None, top_k=None, top_p=None, show_progress=False, headers=None, model_kwargs=None)"
      ]
     },
     "execution_count": 15,
     "metadata": {},
     "output_type": "execute_result"
    }
   ],
   "source": [
    "embeddings"
   ]
  },
  {
   "cell_type": "code",
   "execution_count": 6,
   "id": "403880ef-4761-4eb0-8572-2495aa6d1b70",
   "metadata": {},
   "outputs": [
    {
     "data": {
      "text/plain": [
       "9"
      ]
     },
     "execution_count": 6,
     "metadata": {},
     "output_type": "execute_result"
    }
   ],
   "source": [
    "## now, chunks creation\n",
    "from langchain_text_splitters import RecursiveCharacterTextSplitter\n",
    "\n",
    "text_splitter = RecursiveCharacterTextSplitter(\n",
    "    chunk_size=1000, chunk_overlap=200, add_start_index=True\n",
    ")\n",
    "\n",
    "all_splits = text_splitter.split_documents(pages)\n",
    "\n",
    "len(all_splits)"
   ]
  },
  {
   "cell_type": "code",
   "execution_count": 7,
   "id": "dd39fc53-cb45-4ef3-8bb9-3898a5d522da",
   "metadata": {},
   "outputs": [
    {
     "name": "stderr",
     "output_type": "stream",
     "text": [
      "C:\\Users\\DELL\\anaconda3\\Lib\\site-packages\\pydantic\\_migration.py:283: UserWarning: `pydantic.error_wrappers:ValidationError` has been moved to `pydantic:ValidationError`.\n",
      "  warnings.warn(f'`{import_path}` has been moved to `{new_location}`.')\n"
     ]
    }
   ],
   "source": [
    "from langchain_community.vectorstores import DocArrayInMemorySearch\n",
    "db = DocArrayInMemorySearch.from_documents(pages, embeddings)"
   ]
  },
  {
   "cell_type": "code",
   "execution_count": 8,
   "id": "970ed58d-ec7a-4de3-a454-c68552013159",
   "metadata": {},
   "outputs": [],
   "source": [
    "retriever = db.as_retriever()"
   ]
  },
  {
   "cell_type": "code",
   "execution_count": 9,
   "id": "579b1812-6c20-43d3-bbb4-d7eab6b8344e",
   "metadata": {},
   "outputs": [],
   "source": [
    "# prompt\n",
    "from langchain.prompts import PromptTemplate\n",
    "\n",
    "template = \"\"\"\n",
    "Answer the question based on the context below. If you can't \n",
    "answer the question, reply \"I don't know\".\n",
    "\n",
    "Context: {context}\n",
    "\n",
    "Question: {question}\n",
    "\"\"\"\n",
    "\n",
    "prompt = PromptTemplate.from_template(template)\n",
    "chain = prompt | model | parser\n",
    "\n"
   ]
  },
  {
   "cell_type": "code",
   "execution_count": 10,
   "id": "70d3162a",
   "metadata": {},
   "outputs": [],
   "source": [
    "from operator import itemgetter\n",
    "\n",
    "chain = (\n",
    "    {\n",
    "        \"context\": itemgetter(\"question\") | retriever,\n",
    "        \"question\": itemgetter(\"question\"),\n",
    "    }\n",
    "    | prompt\n",
    "    | model\n",
    "    | parser\n",
    ")"
   ]
  },
  {
   "cell_type": "code",
   "execution_count": 11,
   "id": "21ad75d6-79d1-4e03-aa46-1959f3054951",
   "metadata": {},
   "outputs": [],
   "source": [
    "def chatbot(question):\n",
    "    # Retrieve context from the vector store\n",
    "    context = db.similarity_search(question, k=1)[0].page_content\n",
    "\n",
    "    # Format the prompt with context and question\n",
    "    prompt_text = prompt.format(context=context, question=question)\n",
    "\n",
    "    # Get the response from the model\n",
    "    model_response = model.invoke(prompt_text)\n",
    "    response = parser.parse(model_response)\n",
    "    return response\n"
   ]
  },
  {
   "cell_type": "code",
   "execution_count": 12,
   "id": "6ae6923c-0d23-4ace-9f55-113d57abdf4f",
   "metadata": {
    "scrolled": true
   },
   "outputs": [
    {
     "name": "stdin",
     "output_type": "stream",
     "text": [
      "You:  what is pest management for makhana crop?\n"
     ]
    },
    {
     "name": "stdout",
     "output_type": "stream",
     "text": [
      "Bot: Based on the context provided, pest management for Makhana (Euryale ferox) crop involves several techniques to control and prevent pests from damaging the crop. The techniques mentioned in the text are:\n",
      "\n",
      "1. Remove infected leaves foliage and destroy it safely to prevent the spread of Alternaria leaf blight.\n",
      "2. Use foliar sprays with copper oxychloride or dithane M-45 @ 0.3% twice or thrice at fortnightly interval to check the disease.\n",
      "3. For root rot disease, there is no known cure, so it is vital to remove and destroy any infected plants.\n",
      "\n",
      "It's important to note that the management of pests in Makhana crop may vary depending on the severity of the infestation and the specific location where it is grown. Therefore, it is recommended to consult with local agricultural experts or researchers for the most effective and appropriate pest management techniques for the specific region.\n"
     ]
    },
    {
     "name": "stdin",
     "output_type": "stream",
     "text": [
      "You:  exit\n"
     ]
    }
   ],
   "source": [
    "while True:\n",
    "    user_input = input(\"You: \")\n",
    "    if user_input.lower() in [\"exit\", \"quit\"]:\n",
    "        break\n",
    "    response = chatbot(user_input)\n",
    "    print(f\"Bot: {response}\")"
   ]
  },
  {
   "cell_type": "code",
   "execution_count": 13,
   "id": "4192affb-1c97-4737-b39d-bebd954f0d5a",
   "metadata": {},
   "outputs": [
    {
     "data": {
      "text/plain": [
       "\"Based on the context provided, pest management for Makhana (Euryale ferox) crop involves several techniques to control and prevent pests from damaging the crop. The techniques mentioned in the text are:\\n\\n1. Remove infected leaves foliage and destroy it safely to prevent the spread of Alternaria leaf blight.\\n2. Use foliar sprays with copper oxychloride or dithane M-45 @ 0.3% twice or thrice at fortnightly interval to check the disease.\\n3. For root rot disease, there is no known cure, so it is vital to remove and destroy any infected plants.\\n\\nIt's important to note that the management of pests in Makhana crop may vary depending on the severity of the infestation and the specific location where it is grown. Therefore, it is recommended to consult with local agricultural experts or researchers for the most effective and appropriate pest management techniques for the specific region.\""
      ]
     },
     "execution_count": 13,
     "metadata": {},
     "output_type": "execute_result"
    }
   ],
   "source": [
    "response"
   ]
  },
  {
   "cell_type": "code",
   "execution_count": null,
   "id": "b5b761ed-f0f4-4351-9dd0-b1ea92fd8f2f",
   "metadata": {},
   "outputs": [],
   "source": []
  }
 ],
 "metadata": {
  "kernelspec": {
   "display_name": "Python 3 (ipykernel)",
   "language": "python",
   "name": "python3"
  },
  "language_info": {
   "codemirror_mode": {
    "name": "ipython",
    "version": 3
   },
   "file_extension": ".py",
   "mimetype": "text/x-python",
   "name": "python",
   "nbconvert_exporter": "python",
   "pygments_lexer": "ipython3",
   "version": "3.12.4"
  }
 },
 "nbformat": 4,
 "nbformat_minor": 5
}
